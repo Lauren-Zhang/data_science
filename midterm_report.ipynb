{
 "cells": [
  {
   "cell_type": "markdown",
   "metadata": {},
   "source": [
    "# Explore the correlation between News Headlines and U.S. Stock Market"
   ]
  },
  {
   "cell_type": "markdown",
   "metadata": {},
   "source": [
    "## Table of content\n",
    "<ol type=\"1\", style=\"font-size:110%;\">\n",
    "  <strong><li>Overview</li></strong>\n",
    "  <strong><li>Data Preparation</li></strong>\n",
    "  <ol>\n",
    "  <li>Collection - Stock Index data</li>\n",
    "  <li>Scrapping - News Headlines data</li>\n",
    "  <li>Preprocessing</li>\n",
    "  </ol>\n",
    "  <strong><li>Data understanding and visualization</li></strong>\n",
    "  <ol>\n",
    "  <li>Stock market Trend</li>\n",
    "  <li>News Headline Sentiment Analysis</li>\n",
    "  <li>WordCloud</li>\n",
    "  </ol>\n",
    "</ol>"
   ]
  },
  {
   "cell_type": "markdown",
   "metadata": {},
   "source": [
    "## Overview\n",
    "<p style=\"font-size:110%;\"> It’s well known that news will have significant impact on stock market since news reflect the recent the world environment and trend, which the stock market is verty sensetive to. Therefore, in our final project, we would like to look deeper into the relationship between the news and the stock market. To be more specific, we will use the headlines of news from past 5 years and the well known stock market index - DJIA and NASDQUE to see how the news headline is linked to the change in the stock market. For the news headline data source, we will do web scrapping from Reddits. For the stock market index - DJIA and NASDQUE, we will download it from Yahoo finance. Since to predict the exactly amount of the change in stock market is extremly hard, in our project, we will try to predict the movement of the stock market only. To be more specific, we will label the stock market index data with the label to indicate whether there is a rise or a drop in the stock market index. To examine the relationship between news and stock market movement, we will use text anlytics technique such as sentiment analysis, bag of words and so on to try to dig out whether news headline will affect the stock market and if yes, how will it affect the stock market. \n",
    "</p>"
   ]
  },
  {
   "cell_type": "markdown",
   "metadata": {},
   "source": [
    "## Data Preparation\n",
    "### Collection - Stock Index data\n",
    "<p style=\"font-size:110%;\">We choose NASDAQ Composite index (NASDQUE) and Dow Johns Industrial Average (DJIA) index to be our stock index data since these two index represents two types of stock markets. For NASDAQ, it represents the general environment and condiciton of the stock in USA. For DJIA, it represents the stock market of traditional and large enterprises such as Microsoft. We hope that using these two index will give us more information about the whole stock market and also to see if news headline will have difference effects on these two indexes. \n",
    "\tWe downloaded NASDAQ Composite index (NASDQUE) and Dow Johns Industrial Average (DJIA) index between October 3, 2011 and October  31, 2016 from <a href=\"https://www.finance.yahoo.com/\">https://www.finance.yahoo.com</a>\n",
    "</p>"
   ]
  },
  {
   "cell_type": "markdown",
   "metadata": {},
   "source": [
    "![title](stockNews.png)"
   ]
  },
  {
   "cell_type": "markdown",
   "metadata": {},
   "source": [
    "### Scrapping - News Headlines data\n",
    "<p style=\"font-size:110%;\">We scrapped averagely twenty five news a day from Reddits. We at first set the number of news as 25 in the script, but the actual dates of news are slightly different from the search dates set for about 2 out of 25 news which may be resulted from the difference between time of editing news and that of posting news. \n",
    "</p>"
   ]
  },
  {
   "cell_type": "markdown",
   "metadata": {},
   "source": [
    "[<img  src=\"http://www.webpagefx.com/blog/wp-content/uploads/2014/03/worldnews-new-1024x395.png\n",
    "\">](http://www.webpagefx.com/blog/wp-content/uploads/2014/03/worldnews-new-1024x395.png)\n"
   ]
  },
  {
   "cell_type": "markdown",
   "metadata": {},
   "source": [
    "### Preprocessing\n",
    "<p style=\"font-size:110%;\">Concerning stock index data, we added everyday data with positive or negative label based on its change in index compared with the day before.\n",
    "Concerning news headlines data, we first tokenized news using tokenize from nltk and then lemmatize news. In order to focus on words with useful meanings, we removed stopwords from nltk.corpus. </p>"
   ]
  },
  {
   "cell_type": "code",
   "execution_count": 1,
   "metadata": {
    "collapsed": false
   },
   "outputs": [
    {
     "name": "stderr",
     "output_type": "stream",
     "text": [
      "//anaconda/lib/python2.7/site-packages/nltk/twitter/__init__.py:20: UserWarning: The twython library has not been installed. Some functionality from the twitter package will not be available.\n",
      "  warnings.warn(\"The twython library has not been installed. \"\n"
     ]
    }
   ],
   "source": [
    "import csv\n",
    "import nltk\n",
    "import string\n",
    "import pandas as pd\n",
    "from nltk import tokenize\n",
    "from wordcloud import WordCloud\n",
    "import matplotlib.pyplot as plt\n",
    "from nltk.sentiment.util import *\n",
    "from collections import defaultdict\n",
    "from nltk.corpus import wordnet as wn\n",
    "from nltk.sentiment.vader import SentimentIntensityAnalyzer"
   ]
  },
  {
   "cell_type": "code",
   "execution_count": null,
   "metadata": {
    "collapsed": false
   },
   "outputs": [],
   "source": [
    "def preProcess(text, lemmatizer=nltk.stem.wordnet.WordNetLemmatizer()):\n",
    "    \"\"\" Normalizes case and handles punctuation\n",
    "    Inputs:\n",
    "        text: str: raw text\n",
    "        lemmatizer: an instance of a class implementing the lemmatize() method\n",
    "                    (the default argument is of type nltk.stem.wordnet.WordNetLemmatizer)\n",
    "    Outputs:\n",
    "        list(str): tokenized text\n",
    "    \"\"\"\n",
    "    text = text.lower()\n",
    "    text = text.replace('\\'s','')\n",
    "    text = text.replace('\\'','')\n",
    "    for punc in string.punctuation:\n",
    "    \ttext = text.replace(punc,' ')\n",
    "\n",
    "    tokens = nltk.word_tokenize(text)\n",
    "    lem_tokens=[]\n",
    "    for token in tokens:\n",
    "    \ttry:\n",
    "    \t\ttoken = lemmatizer.lemmatize(token)\n",
    "    \t\tlem_tokens.append(token)\n",
    "    \texcept:\n",
    "    \t\tlem_tokens.append('')\n",
    "    lem_tokens = list(filter(None, lem_tokens)) \n",
    "\n",
    "    return lem_tokens\n",
    "    pass\n",
    "\n",
    "\n",
    "def dataPreparation(file_path):\n",
    "    stopwords = nltk.corpus.stopwords.words('english')\n",
    "    stopwords.extend([\"ha\", \"u\"])\n",
    "    news = []\n",
    "    dict_news = defaultdict(list)   \n",
    "    with open(file_path) as f:\n",
    "        reader = csv.reader(f)\n",
    "        for row in reader:\n",
    "            news.append(row)      \n",
    "            if(len(row)!=2):\n",
    "                print(row)\n",
    "            \n",
    "    sentences = []\n",
    "    for news_day in news:\n",
    "        process_headline = preProcess(news_day[1])\n",
    "        process_string = ' '.join(process_headline)\n",
    "        sentences.append(mark_negation(process_headline))\n",
    "        dict_news[news_day[0]].append(process_string)    \n",
    "    \n",
    "    dict_news_nostop = defaultdict(list)\n",
    "    for news_day in news:\n",
    "        process_headline = preProcess(news_day[1])\n",
    "        process_headline_no_stopword = []\n",
    "        for word in process_headline:\n",
    "            if(word not in stopwords):\n",
    "                process_headline_no_stopword.append(word)\n",
    "        process_string = ' '.join(process_headline_no_stopword)\n",
    "        dict_news_nostop[news_day[0]].append(process_string)\n",
    "        \n",
    "    sentiment = {}\n",
    "    date = []\n",
    "    neg = []\n",
    "    pos = []\n",
    "    sid = SentimentIntensityAnalyzer()\n",
    "    for day in dict_news:\n",
    "        date.append(day)\n",
    "        ss = sid.polarity_scores(str(dict_news_nostop[day]))\n",
    "        sentiment[day] = ss\n",
    "        neg.append(ss[\"neg\"])\n",
    "        pos.append(ss[\"pos\"])\n",
    "    return sentiment, date, neg, pos, dict_news, dict_news_nostop"
   ]
  },
  {
   "cell_type": "code",
   "execution_count": null,
   "metadata": {
    "collapsed": false
   },
   "outputs": [],
   "source": [
    "sentiment, date, neg, pos, dict_news, dict_news_nostop = dataPreparation(\"news_headline.csv\")\n"
   ]
  },
  {
   "cell_type": "markdown",
   "metadata": {},
   "source": [
    "### Data understanding and visualization\n",
    "#### Stock market Trend\n",
    "<p style=\"font-size:110%;\">We first examine the stock market trend based on these two indexes. </p>\n"
   ]
  },
  {
   "cell_type": "code",
   "execution_count": null,
   "metadata": {
    "collapsed": true
   },
   "outputs": [],
   "source": [
    "def showStockPlot(file_path):\n",
    "    stock = pd.DataFrame.from_csv(file_path, header=0,index_col=False)\n",
    "    stock[[\"Date\"]] = stock[[\"Date\"]].astype(\"datetime64\") \n",
    "    plt.plot(stock[[\"Date\"]], stock[[\"NASDQUE\"]],stock[[\"Date\"]],stock[[\"DJIA\"]])\n",
    "    plt.show()"
   ]
  },
  {
   "cell_type": "code",
   "execution_count": null,
   "metadata": {
    "collapsed": true
   },
   "outputs": [],
   "source": [
    "%matplotlib inline\n",
    "showStockPlot('Stock_Price.csv')"
   ]
  },
  {
   "cell_type": "markdown",
   "metadata": {},
   "source": [
    "### News Headline Sentiment Analysis\n",
    "<p style=\"font-size:110%;\">We use the package of the sentiment analysis from nltk including nltk.sentiment.util and nltk.sentiment.vader to examine the sentiment of every day news headline. We aggregate the news headline we collected by date, remove the stopwords and apply to the sentiment analysis function of nltk. For each date, we will have scores for negative, positive and neutral. </p>\n"
   ]
  },
  {
   "cell_type": "code",
   "execution_count": null,
   "metadata": {
    "collapsed": true
   },
   "outputs": [],
   "source": [
    "def sentimentPlot(date, neg, pos):\n",
    "    plot = pd.DataFrame({\"date\": date, \"neg\": neg, \"pos\": pos}, columns=[\"date\",\"neg\", \"pos\"])\n",
    "    plot[[\"date\"]] = plot[[\"date\"]].astype(\"datetime64\")\n",
    "    plot = plot.sort(\"date\")\n",
    "    plt.plot(plot[[\"date\"]], plot[[\"neg\"]],plot[[\"date\"]],plot[[\"pos\"]])\n",
    "    plt.show()\n",
    "    "
   ]
  },
  {
   "cell_type": "code",
   "execution_count": null,
   "metadata": {
    "collapsed": true
   },
   "outputs": [],
   "source": [
    "sentimentPlot(date, neg, pos)"
   ]
  },
  {
   "cell_type": "markdown",
   "metadata": {},
   "source": [
    "<p style=\"font-size:110%;\">As you can see, most of them have the same trend: the score of netrual > the score of negative > the score of positive. However, we can still see the trend of the score of negative and the score of positive. </p>"
   ]
  },
  {
   "cell_type": "markdown",
   "metadata": {},
   "source": [
    "### WordCloud\n",
    "<p style=\"font-size:110%;\">Based on different label, we want to see if there is significant difference of high frequency words set between them. Based on our label and stock market index, we have 4 word sets: Positive of NASDQUE, Negative of NASDQUE, Positive of DJIA and Negative of DJIA. </p>"
   ]
  },
  {
   "cell_type": "code",
   "execution_count": null,
   "metadata": {
    "collapsed": true
   },
   "outputs": [],
   "source": [
    "def getWordCloud(file_path, dict_news_nostop):\n",
    "    trend = {}\n",
    "    with open(file_path) as f:\n",
    "        reader = csv.reader(f)\n",
    "        for row in reader:\n",
    "            trend[row[0]] = row[-1]\n",
    "    positive = \"\"\n",
    "    negative = \"\"\n",
    "    for day in trend:\n",
    "        if(trend[day]=='+'):\n",
    "            current = ' '.join(dict_news_nostop[day])\n",
    "            positive += (' '+current)\n",
    "            #NASDQUE_positive.append(dict_news[day])\n",
    "        if(trend[day]=='-'):\n",
    "            current = ' '.join(dict_news_nostop[day])\n",
    "            negative += (' '+current)      \n",
    "            #NASDQUE_negative.append(dict_news[day])\n",
    "\n",
    "    return positive, negative\n",
    "\n",
    "def drawWordCloud(string):\n",
    "    wordcloud = WordCloud(max_font_size=40).generate(string)\n",
    "    plt.figure()\n",
    "    plt.imshow(wordcloud)\n",
    "    plt.axis(\"off\")\n",
    "    plt.show()"
   ]
  },
  {
   "cell_type": "code",
   "execution_count": null,
   "metadata": {
    "collapsed": false
   },
   "outputs": [],
   "source": [
    "DJIA_pos, DJIA_neg = getWordCloud(\"DJIA_trend.csv\", dict_news_nostop)\n",
    "NASDQUE_pos, NASDQUE_neg = getWordCloud(\"NASDQUE_trend.csv\", dict_news_nostop)\n",
    "for name in [DJIA_pos, DJIA_neg, NASDQUE_pos, NASDQUE_neg]:\n",
    "    drawWordCloud(name)"
   ]
  },
  {
   "cell_type": "markdown",
   "metadata": {},
   "source": [
    "<p style=\"font-size:110%;\">As you can see, the word cloud of positive and negative words sets are not that different.</p>"
   ]
  }
 ],
 "metadata": {
  "anaconda-cloud": {},
  "kernelspec": {
   "display_name": "Python [Root]",
   "language": "python",
   "name": "Python [Root]"
  },
  "language_info": {
   "codemirror_mode": {
    "name": "ipython",
    "version": 2
   },
   "file_extension": ".py",
   "mimetype": "text/x-python",
   "name": "python",
   "nbconvert_exporter": "python",
   "pygments_lexer": "ipython2",
   "version": "2.7.12"
  }
 },
 "nbformat": 4,
 "nbformat_minor": 0
}
